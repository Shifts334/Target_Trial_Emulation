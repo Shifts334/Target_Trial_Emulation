{
 "cells": [
  {
   "cell_type": "markdown",
   "metadata": {},
   "source": []
  },
  {
   "cell_type": "markdown",
   "metadata": {},
   "source": []
  },
  {
   "cell_type": "markdown",
   "metadata": {},
   "source": [
    "#### Import the necessary files"
   ]
  },
  {
   "cell_type": "code",
   "execution_count": 1,
   "metadata": {},
   "outputs": [],
   "source": [
    "import os\n",
    "import pandas as pd\n",
    "import numpy as np\n",
    "from lifelines import CoxPHFitter\n",
    "from sklearn.linear_model import LogisticRegression\n",
    "import matplotlib.pyplot as plt\n"
   ]
  },
  {
   "cell_type": "markdown",
   "metadata": {},
   "source": [
    "#### Load and Prepare Data"
   ]
  },
  {
   "cell_type": "code",
   "execution_count": 2,
   "metadata": {},
   "outputs": [],
   "source": [
    "class TargetTrialEmulator:\n",
    "    def __init__(self, estimand=\"ITT\"):\n",
    "        self.estimand = estimand\n",
    "        self.weights = None\n",
    "        self.model = None\n",
    "        self.expanded_data = None\n",
    "        \n",
    "    def prepare_data(self, data_path):\n",
    "        self.data = pd.read_csv(data_path)\n",
    "        self.data['age_s'] = self.data['age'] + self.data['period']/12\n",
    "        return self"
   ]
  },
  {
   "cell_type": "markdown",
   "metadata": {},
   "source": [
    "#### Modified Code segment added which helps to identify subgroups of patients with similar baseline characteristics and analyze treatment effects within clusters."
   ]
  },
  {
   "cell_type": "code",
   "execution_count": 3,
   "metadata": {},
   "outputs": [],
   "source": [
    "def cluster_patients(self, n_clusters=3):\n",
    "        \"\"\"Cluster patients based on baseline features.\"\"\"\n",
    "        from sklearn.cluster import KMeans\n",
    "        \n",
    "        # Extract baseline features (e.g., first observation per patient)\n",
    "        baseline = self.data.groupby('id').first()[['age', 'x1', 'x2', 'x3']]\n",
    "        \n",
    "        # Fit KMeans\n",
    "        kmeans = KMeans(n_clusters=n_clusters).fit(baseline)\n",
    "        \n",
    "        # Map cluster labels back to original data\n",
    "        self.data['cluster'] = self.data['id'].map(\n",
    "            pd.Series(kmeans.labels_, index=baseline.index)\n",
    "        )\n",
    "        return self    "
   ]
  },
  {
   "cell_type": "markdown",
   "metadata": {},
   "source": []
  },
  {
   "cell_type": "code",
   "execution_count": 4,
   "metadata": {},
   "outputs": [],
   "source": [
    "def calculate_weights(self):\n",
    "        # Treatment switching weights (PP only)\n",
    "        if self.estimand == \"PP\":\n",
    "            switch_num = LogisticRegression()\n",
    "            switch_num.fit(self.data[['age']], self.data['treatment'])\n",
    "            numer = switch_num.predict_proba(self.data[['age']])[:,1]\n",
    "            \n",
    "            switch_den = LogisticRegression()\n",
    "            switch_den.fit(self.data[['age', 'x1', 'x3']], self.data['treatment'])\n",
    "            denom = switch_den.predict_proba(self.data[['age', 'x1', 'x3']])[:,1]\n",
    "            \n",
    "            switch_weights = numer / denom\n",
    "        else:\n",
    "            switch_weights = np.ones(len(self.data))\n",
    "            \n",
    "        # Censoring weights\n",
    "        censor_model = LogisticRegression()\n",
    "        censor_model.fit(self.data[['x2', 'x1']], self.data['censored'])\n",
    "        censor_probs = censor_model.predict_proba(self.data[['x2', 'x1']])[:,0]\n",
    "        censor_weights = 1 / censor_probs\n",
    "        \n",
    "        # Combine weights\n",
    "        self.weights = switch_weights * censor_weights\n",
    "        return self\n",
    "    \n",
    "def expand_trials(self, chunk_size=500):\n",
    "        # Simplified trial expansion (conceptual)\n",
    "        expanded = []\n",
    "        for period in self.data['period'].unique():\n",
    "            period_data = self.data[self.data['period'] == period].copy()\n",
    "            period_data['trial_period'] = period\n",
    "            expanded.append(period_data)\n",
    "        \n",
    "        self.expanded_data = pd.concat(expanded)\n",
    "        return self\n",
    "    \n",
    "def fit_msm(self):\n",
    "        # Winsorize weights\n",
    "        q99 = np.quantile(self.weights, 0.99)\n",
    "        self.expanded_data['weights'] = np.minimum(self.weights, q99)\n",
    "        \n",
    "        # Fit Cox PH model\n",
    "        self.model = CoxPHFitter()\n",
    "        self.model.fit(self.expanded_data[['treatment', 'x2', 'period', 'outcome', 'weights']],\n",
    "                      duration_col='period',\n",
    "                      event_col='outcome',\n",
    "                      weights_col='weights',\n",
    "                      robust=True \n",
    "        )\n",
    "        return self\n",
    "    \n",
    "def predict_survival(self, periods=10):\n",
    "        prediction_data = self.expanded_data[self.expanded_data['period'] == 1].copy()\n",
    "        return self.model.predict_survival_function(prediction_data)\n",
    "    \n",
    "def plot_survival(self):\n",
    "        self.model.plot()\n",
    "        plt.title(f\"{self.estimand} Survival Curves\")\n",
    "        plt.show()"
   ]
  },
  {
   "cell_type": "markdown",
   "metadata": {},
   "source": [
    "### Execution Workflow"
   ]
  },
  {
   "cell_type": "code",
   "execution_count": null,
   "metadata": {},
   "outputs": [
    {
     "name": "stdout",
     "output_type": "stream",
     "text": [
      "Running ITT Analysis...\n"
     ]
    },
    {
     "ename": "AttributeError",
     "evalue": "'TargetTrialEmulator' object has no attribute 'calculate_weights'",
     "output_type": "error",
     "traceback": [
      "\u001b[1;31m---------------------------------------------------------------------------\u001b[0m",
      "\u001b[1;31mAttributeError\u001b[0m                            Traceback (most recent call last)",
      "Cell \u001b[1;32mIn[5], line 4\u001b[0m\n\u001b[0;32m      2\u001b[0m emulator_itt \u001b[38;5;241m=\u001b[39m TargetTrialEmulator(estimand\u001b[38;5;241m=\u001b[39m\u001b[38;5;124m\"\u001b[39m\u001b[38;5;124mITT\u001b[39m\u001b[38;5;124m\"\u001b[39m)\n\u001b[0;32m      3\u001b[0m emulator_itt\u001b[38;5;241m.\u001b[39mprepare_data(\u001b[38;5;124m\"\u001b[39m\u001b[38;5;124mdata_censored.csv\u001b[39m\u001b[38;5;124m\"\u001b[39m)\n\u001b[1;32m----> 4\u001b[0m \u001b[43memulator_itt\u001b[49m\u001b[38;5;241;43m.\u001b[39;49m\u001b[43mcalculate_weights\u001b[49m()\n\u001b[0;32m      5\u001b[0m emulator_itt\u001b[38;5;241m.\u001b[39mexpand_trials()\n\u001b[0;32m      6\u001b[0m emulator_itt\u001b[38;5;241m.\u001b[39mfit_msm()\n",
      "\u001b[1;31mAttributeError\u001b[0m: 'TargetTrialEmulator' object has no attribute 'calculate_weights'"
     ]
    }
   ],
   "source": [
    "print(\"Running ITT Analysis...\")\n",
    "emulator_itt = TargetTrialEmulator(estimand=\"ITT\")\n",
    "emulator_itt.prepare_data(\"data_censored.csv\")\n",
    "emulator_itt.cluster_patients(n_clusters=3)\n",
    "emulator_itt.calculate_weights()\n",
    "emulator_itt.expand_trials()\n",
    "emulator_itt.fit_cluster_msm()\n",
    "\n",
    "print(\"\\nITT Model Summary:\")\n",
    "print(emulator_itt.model.print_summary())\n",
    "\n",
    "# Initialize and run PP analysis\n",
    "print(\"\\nRunning PP Analysis...\")\n",
    "emulator_pp = TargetTrialEmulator(estimand=\"PP\")\n",
    "emulator_pp.prepare_data(\"data_censored.csv\")\n",
    "emulator_pp.calculate_weights()\n",
    "emulator_pp.expand_trials()\n",
    "emulator_pp.fit_msm()\n",
    "\n",
    "print(\"\\nPP Model Summary:\")\n",
    "print(emulator_pp.model.print_summary())\n",
    "\n",
    "for cluster, model in emulator_itt.cluster_models.items():\n",
    "    print(f\"Cluster {cluster} Summary:\")\n",
    "    print(model.print_summary())\n",
    "\n",
    "# Generate predictions and plots\n",
    "print(\"\\nGenerating Survival Predictions...\")\n",
    "emulator_itt.plot_survival()\n",
    "emulator_pp.plot_survival()\n",
    "\n",
    "# Save model outputs\n",
    "emulator_itt.expanded_data.to_csv(\"itt_expanded_data.csv\", index=False)\n",
    "emulator_pp.expanded_data.to_csv(\"pp_expanded_data.csv\", index=False)"
   ]
  }
 ],
 "metadata": {
  "kernelspec": {
   "display_name": "Python 3",
   "language": "python",
   "name": "python3"
  },
  "language_info": {
   "codemirror_mode": {
    "name": "ipython",
    "version": 3
   },
   "file_extension": ".py",
   "mimetype": "text/x-python",
   "name": "python",
   "nbconvert_exporter": "python",
   "pygments_lexer": "ipython3",
   "version": "3.13.2"
  }
 },
 "nbformat": 4,
 "nbformat_minor": 2
}
